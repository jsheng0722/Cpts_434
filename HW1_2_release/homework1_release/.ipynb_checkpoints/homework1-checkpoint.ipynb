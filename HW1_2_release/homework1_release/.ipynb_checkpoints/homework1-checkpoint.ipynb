{
 "cells": [
  {
   "cell_type": "markdown",
   "metadata": {},
   "source": [
    "# Homework 1: Basics of machine learning and feedforward neural networks\n",
    "\n",
    "### Name: [INPUT-YOUR NAME]"
   ]
  },
  {
   "cell_type": "markdown",
   "metadata": {},
   "source": [
    "## This assignment includes:\n",
    "\n",
    "## 1. Mathematical questions (20 points)\n",
    "\n",
    "## 2. Coding in Python (pytorch): train softmax classifiers on MNIST (80 points)\n",
    "\n",
    "2.0 Install and configure: python ([Anaconda platform](https://docs.anaconda.com/anaconda/install/) recommended), [Jupyter Notebook](https://jupyter.org/install) and [pytorch](https://pytorch.org/get-started/) \n",
    "\n",
    "2.1 Read provided code (with pytorch) \n",
    "\n",
    "2.2 Complete the code of mini-batch SGD for linear softmax classifier\n",
    "\n",
    "2.3 Record and plot results to show the loss and accuracy convergence (against #epoch)\n",
    "\n",
    "2.4 Complete the code of multilayer feedforward network and train the nonlinear models\n",
    "\n",
    "## Submission:\n",
    "\n",
    "* Convert the ipynb file to html file (**save the execution outputs**)\n",
    "    \n",
    "* Upload both your ipynb and html files to blackboard.\n",
    "\n",
    "* Deadline: Feb 28, 11:59:59 PM, Pacific time.\n",
    "\n",
    "## Hints for the coding part:\n",
    "\n",
    "1. If you are more comfortable to use other libraries such as Keras and TensorFlow, you can change the code accordingly.\n",
    "\n",
    "2. Implement your code using the computation of vectors and matrics, rather than the for-loop to compute each element in vectors and matrics.\n",
    "\n",
    "3. Plots should be clear and easy to read."
   ]
  },
  {
   "cell_type": "markdown",
   "metadata": {},
   "source": [
    "# 1. Mathematical questions:"
   ]
  },
  {
   "cell_type": "markdown",
   "metadata": {},
   "source": [
    "## 1.1. Equivalence between: MLE using Bernoulli distribution and logistic regression\n",
    "\n",
    "Read Section 5.5, 6.2.2.2, 6.2.2.3 in [Deep Learning Book](https://www.deeplearningbook.org/). Explain why logistic regression is equivalent to Maximum likelihood estimation.\n",
    "\n",
    "Optional reading material that may help: [this lecture notes](https://www.stat.cmu.edu/~cshalizi/uADA/12/lectures/ch12.pdf), Section 12.2.1 and 12.2.2."
   ]
  },
  {
   "cell_type": "code",
   "execution_count": null,
   "metadata": {},
   "outputs": [],
   "source": [
    "# 1.1 \n",
    "#   Logistic regression assumes that the data obeys the Bernoulli distribution. \n",
    "# Through the method of maximum likelihood function, gradient descent is used to solve\n",
    "# the parameters to achieve the purpose of binary classification of the data.\n",
    "#   The maximum likelihood estimation is to use the known results to reverse the parameters\n",
    "# that have the maximum probability to cause the results.\n",
    "#   Logistic regression is a kind of supervised learning with training labels (known results),\n",
    "# which can be used to derive the result parameters. By obtaining this parameter, the model can accurately predict unknown data.\n",
    "#   Therefore, logistic regression is equivalent to Maximum likelihood estimation."
   ]
  },
  {
   "cell_type": "markdown",
   "metadata": {},
   "source": [
    "## 1.2. Determine the convexity of a function"
   ]
  },
  {
   "cell_type": "markdown",
   "metadata": {},
   "source": [
    "1.2.1. Suppose we have a functioin $f({\\bf x}) = \\log( \\sum_{i=1}^n \\exp(x_i) )$, where ${\\bf x} \\in \\mathbb R^d$ and $x_i$ is the $i$-th element of ${\\bf x}$ (so {\\bf x} is a vector and $x_i$ is a scalar). \n",
    "\n",
    "Question: is $f({\\bf x})$ a convex function?"
   ]
  },
  {
   "cell_type": "markdown",
   "metadata": {},
   "source": [
    "Answer:\n"
   ]
  },
  {
   "cell_type": "markdown",
   "metadata": {},
   "source": [
    "1.2.2. We introduced logistic regression for binary classification. Its objective function is \n",
    "\\begin{align*}\n",
    "f({\\bf w}) = \\frac{1}{n} \\sum_{i=1}^n \\log( 1 + \\exp( - y_i {\\bf w}^\\top {\\bf x}_i ) ) + \\frac{\\lambda}{2} \\| {\\bf w} \\|^2  ,\n",
    "\\end{align*}\n",
    "where ${\\bf x}_i \\in \\mathbb R^d, y_i \\in \\{ -1, +1 \\}$. \n",
    "\n",
    "Question: is the above objective function convex or not?"
   ]
  },
  {
   "cell_type": "markdown",
   "metadata": {},
   "source": [
    "Answer:\n"
   ]
  },
  {
   "cell_type": "markdown",
   "metadata": {},
   "source": [
    "**Example:**\n",
    "We can use the second order derivatives $\\nabla^2 f$ to see whether a function $f$ is convex: if the second order derivatives are positive definite (when $f$ has vector inputs), or positive number (when $f$ has scalar inputs). Suppose $f({\\bf x}) = 1/2 * {\\bf x}^\\top {\\bf x}$. Then we compute its first order and second order derivative:\n",
    "\\begin{align*}\n",
    "&\n",
    "\\nabla f({\\bf x}) = {\\bf x} \\\\\n",
    "&\n",
    "\\nabla^2 f({\\bf x}) = {\\bf 1} ,\n",
    "\\end{align*}\n",
    "where ${\\bf 1}$ is positive definite ([why?](https://math.stackexchange.com/questions/263957/why-is-the-identity-the-only-symmetric-0-1-matrix-with-all-eigenvalues-posit#:~:text=It%20does%20not%20give%20much,simultaneously%20has%20all%20three%20properties.&text=Symmetric%20and%20all%20eigenvalues%20positive,1's%20on%20its%20diagonal.)).\n",
    "\n",
    "Hint: you can find how to compute derivatives of vectors/matrics in Section 2 in [The Matrix Cookbook](https://www.math.uwaterloo.ca/~hwolkowi/matrixcookbook.pdf)"
   ]
  },
  {
   "cell_type": "code",
   "execution_count": null,
   "metadata": {},
   "outputs": [],
   "source": [
    "# 1.2.1\n",
    "##   No. If the second derivative of the function is greater than 0, the function is convex.\n",
    "##   The second derivative of f(x) is 0. Si it's not convex funtion. \n",
    "\n",
    "# 1.2.2\n",
    "##   It's convex. The first derivative of f(w) is (λ/2)∥w∥^2 = λw; The second derivative of f(w) is λ. λ is positive. So its convex function."
   ]
  },
  {
   "cell_type": "markdown",
   "metadata": {},
   "source": [
    "# 2. Coding"
   ]
  },
  {
   "cell_type": "markdown",
   "metadata": {},
   "source": [
    "## 2.1. (Read and run) Load MNIST dataset using pytorch and scale features"
   ]
  },
  {
   "cell_type": "code",
   "execution_count": 18,
   "metadata": {},
   "outputs": [
    {
     "name": "stdout",
     "output_type": "stream",
     "text": [
      "Shape of x_train: (60000, 784)\n",
      "Shape of x_test: (10000, 784)\n",
      "Shape of y_train: (60000,)\n",
      "Shape of y_test: (10000,)\n"
     ]
    }
   ],
   "source": [
    "import matplotlib.pyplot as plt\n",
    "import numpy\n",
    "from torchvision import datasets, transforms\n",
    "\n",
    "train_set = datasets.MNIST('./data', train=True, download=True)\n",
    "test_set = datasets.MNIST('./data', train=False, download=True)\n",
    "\n",
    "x_train = train_set.data.numpy()\n",
    "x_train = x_train.reshape(len(x_train),-1)\n",
    "x_test = test_set.data.numpy()\n",
    "x_test = x_test.reshape(len(x_test),-1)\n",
    "\n",
    "y_train = train_set.targets.numpy()\n",
    "y_test = test_set.targets.numpy()\n",
    "\n",
    "print('Shape of x_train: ' + str(x_train.shape))\n",
    "print('Shape of x_test: ' + str(x_test.shape))\n",
    "\n",
    "print('Shape of y_train: ' + str(y_train.shape))\n",
    "print('Shape of y_test: ' + str(y_test.shape))\n",
    "\n",
    "# calculate mu and sig using the training set\n",
    "d = x_train.shape[1]\n",
    "mu = numpy.mean(x_train, axis=0).reshape(1, d)\n",
    "sig = numpy.std(x_train, axis=0).reshape(1, d)\n",
    "\n",
    "# transform the training features\n",
    "x_train = (x_train - mu) / (sig + 1E-6)\n",
    "\n",
    "# transform the test features\n",
    "x_test = (x_test - mu) / (sig + 1E-6)"
   ]
  },
  {
   "cell_type": "markdown",
   "metadata": {},
   "source": [
    "## 2.2. (Read and run) Visualize a random image"
   ]
  },
  {
   "cell_type": "code",
   "execution_count": 19,
   "metadata": {},
   "outputs": [
    {
     "name": "stdout",
     "output_type": "stream",
     "text": [
      "Its label is\n",
      "4\n"
     ]
    },
    {
     "data": {
      "image/png": "[encoded data removed]",
      "text/plain": [
       "<Figure size 432x288 with 1 Axes>"
      ]
     },
     "metadata": {
      "needs_background": "light"
     },
     "output_type": "display_data"
    }
   ],
   "source": [
    "d = x_train.shape[0]\n",
    "random_index = numpy.random.randint(d, size=1)[0]\n",
    "plt.imshow(x_train[random_index].reshape(28,28))\n",
    "print('Its label is')\n",
    "print(y_train[random_index])"
   ]
  },
  {
   "cell_type": "markdown",
   "metadata": {},
   "source": [
    "## 2.3. (Read and run) Define softmax function and cross entropy loss"
   ]
  },
  {
   "cell_type": "code",
   "execution_count": 20,
   "metadata": {},
   "outputs": [],
   "source": [
    "def softmax(z):\n",
    "    \"\"\"implement the softmax functions\n",
    "    input: numpy ndarray\n",
    "    output: numpy ndarray\n",
    "    \"\"\"\n",
    "    exp_list = numpy.exp(z)\n",
    "    result = 1/sum(exp_list) * exp_list\n",
    "    result = result.reshape((len(z),1))\n",
    "    assert (result.shape == (len(z),1))\n",
    "    return result\n",
    "\n",
    "def neg_log_loss(pred, label):\n",
    "    \"\"\"implement the negative log loss\"\"\"\n",
    "    loss = -numpy.log(pred[int(label)])\n",
    "    return loss"
   ]
  },
  {
   "cell_type": "markdown",
   "metadata": {},
   "source": [
    "## 2.4 (Read and run) Functions for implementing linear softmax classifier"
   ]
  },
  {
   "cell_type": "code",
   "execution_count": 21,
   "metadata": {},
   "outputs": [],
   "source": [
    "import os\n",
    "import sys\n",
    "import json\n",
    "\n",
    "root = os.path.abspath('.')\n",
    "root += '/configs/'\n",
    "\n",
    "def loadConfig(name):\n",
    "    \"\"\" Read a configuration file as a dictionary\"\"\"\n",
    "    full_path = root + name\n",
    "    json_file = open(full_path, 'r')\n",
    "    cfg = json.load(json_file)\n",
    "    json_file.close()\n",
    "    return cfg  \n",
    "\n",
    "def initialize(num_inputs,num_classes):\n",
    "    \"\"\"initialize the parameters\"\"\"\n",
    "    # num_inputs = 28*28 = 784\n",
    "    # num_classes = 10\n",
    "    w = numpy.zeros((num_classes, num_inputs)) # (10*784)\n",
    "    b = numpy.zeros((num_classes, 1)) # (10*1) \n",
    "    \n",
    "    param = {\n",
    "        'w' : w, # (10*784)\n",
    "        'b' : b  # (10*1)\n",
    "    }\n",
    "    return param\n",
    "\n",
    "def eval(param, hyp, x_data, y_data):\n",
    "    \"\"\" implement the evaluation function\n",
    "    input: param -- parameters dictionary (w, b)\n",
    "           hyp -- hyper-parameter: we use hyp['lambda'] to compute regularization\n",
    "           x_data -- x_train or x_test (size, 784)\n",
    "           y_data -- y_train or y_test (size,)\n",
    "    output: loss and accuracy\n",
    "    \"\"\"\n",
    "    \n",
    "    reg_lambda = hyp['lambda']\n",
    "    \n",
    "    # w: (10*784), x: (10000*784), y:(10000,)\n",
    "    loss_list = []\n",
    "    w = param['w'].transpose()\n",
    "    b = param['b'].transpose()\n",
    "    dist = numpy.array([numpy.squeeze(softmax(numpy.matmul(x_data[i], w))) for i in range(len(y_data))])\n",
    "\n",
    "    result = numpy.argmax(dist,axis=1)\n",
    "    accuracy = sum(result == y_data)/float(len(y_data))\n",
    "\n",
    "    loss_list = [neg_log_loss(dist[i],y_data[i]) for i in range(len(y_data))]\n",
    "    loss = sum(loss_list) / len(loss_list) + reg_lambda/2 * numpy.sum(w * w) + reg_lambda/2 * numpy.sum(b * b)\n",
    "    return loss, accuracy\n",
    "\n",
    "def train(param, hyp, x_train, y_train, x_test, y_test,cfg_idx):\n",
    "    \"\"\" implement the train function\n",
    "    input: param -- parameters dictionary (w, b)\n",
    "           hyp -- hyperparameters dictionary\n",
    "           x_train -- (60000, 784)\n",
    "           y_train -- (60000,)\n",
    "           x_test -- x_test (10000, 784)\n",
    "           y_test -- y_test (10000,)\n",
    "    output: train_loss_list, train_acc_list, test_loss_list, test_acc_list\n",
    "           Four lists contain the epoch-wise loss function on training data, accuracy on training data, loss function on testing data, accuracy on testing data, respectively\n",
    "    \"\"\"\n",
    "    num_epoches = hyp['num_epoches']\n",
    "    batch_size = hyp['batch_size']\n",
    "    learning_rate = hyp['learning_rate']\n",
    "    mu = hyp['mu']\n",
    "    reg_lambda = hyp['lambda']\n",
    "    train_loss_list, train_acc_list, test_loss_list, test_acc_list = [],[],[],[]\n",
    "    if bool(hyp['momentum']) == True:\n",
    "        w_velocity = numpy.zeros(param['w'].shape)\n",
    "        b_velocity = numpy.zeros(param['b'].shape) \n",
    "\n",
    "    for epoch in range(num_epoches):\n",
    "        \n",
    "        # select the random sequence of training set\n",
    "        rand_indices = numpy.random.choice(x_train.shape[0],x_train.shape[0],replace=False)\n",
    "        num_batch = int(x_train.shape[0]/batch_size)\n",
    "        \n",
    "        if bool(hyp['learning_decay']) == True:\n",
    "            try:\n",
    "                if test_acc_list[-1] - test_acc_list[-2] < 0.001:\n",
    "                    learning_rate *= hyp['decay_factor']\n",
    "            except:\n",
    "                pass\n",
    "            \n",
    "            message = 'learning rate: %.8f' % learning_rate\n",
    "            print(message)\n",
    "            logging.info(message)\n",
    "\n",
    "        # for each batch of train data\n",
    "        for batch in range(num_batch):\n",
    "            index = rand_indices[batch_size*batch:batch_size*(batch+1)]\n",
    "            x_batch = x_train[index]\n",
    "            y_batch = y_train[index]\n",
    "\n",
    "            # calculate the stochastic gradient w.r.t w and b\n",
    "            dw, db, batch_loss = mini_batch_gradient(param, x_batch, y_batch, reg_lambda)\n",
    "\n",
    "            param['w'] -= learning_rate * dw\n",
    "            param['b'] -= learning_rate * db\n",
    "            \n",
    "            if (batch+1) % 100 == 0:\n",
    "                message = 'Epoch [%d/%d], Batch [%d/%d], Loss %.4f' % (epoch+1, num_epoches, batch+1, num_batch, batch_loss)\n",
    "                print(message)\n",
    "\n",
    "        train_loss, train_acc = eval(param,hyp,x_train,y_train)\n",
    "        test_loss, test_acc = eval(param,hyp,x_test,y_test)\n",
    "        train_loss_list.append(train_loss)\n",
    "        train_acc_list.append(train_acc)\n",
    "        test_loss_list.append(test_loss)\n",
    "        test_acc_list.append(test_acc)\n",
    "\n",
    "        message = 'Epoch %d/%d, Train Loss %.4f, Train Acc %.4f, Test Loss %.4f, Test Acc %.4f' % (epoch+1, num_epoches, train_loss, train_acc, test_loss, test_acc)\n",
    "        print(message)\n",
    "        logging.info(message)\n",
    "    return train_loss_list, train_acc_list, test_loss_list, test_acc_list\n",
    "\n",
    "\n",
    "def plot(train_loss_list, train_acc_list, test_loss_list, test_acc_list, cfg_idx):\n",
    "    \"\"\"store the plots\"\"\"\n",
    "    # epoch_list = list(range(len(loss_list)))\n",
    "    plt.plot(train_loss_list, '-b', label='train loss')\n",
    "    plt.plot(test_loss_list, '-r', label='test loss')\n",
    "    plt.legend()\n",
    "    plt.ylabel('Loss Function')\n",
    "    plt.xlabel('Epoch')\n",
    "    plt.xticks(rotation=60)\n",
    "    plt.title('Loss Function ~ Epoch')\n",
    "    plt.savefig('assets/loss_{}.png'.format(cfg_idx))\n",
    "    plt.show()\n",
    "    \n",
    "    plt.plot(train_acc_list, '-b', label='train acc')\n",
    "    plt.plot(test_acc_list, '-r', label='test acc')\n",
    "    plt.legend()\n",
    "    plt.ylabel('Accuracy')\n",
    "    plt.xlabel('Epoch')\n",
    "    plt.xticks(rotation=60)\n",
    "    plt.title('Accuracy ~ Epoch')\n",
    "    plt.savefig('assets/accr_{}.png'.format(cfg_idx))\n",
    "    plt.show()\n",
    "    \n",
    "\n",
    "def main(cfg_idx): \n",
    "#     cfg_idx = args.config\n",
    "    cfg_name = 'config_{}.json'.format(cfg_idx)\n",
    "    hyperpara = loadConfig(cfg_name)\n",
    "\n",
    "    # setting the random seed\n",
    "    numpy.random.seed(1024)\n",
    "\n",
    "    # initialize the parameters\n",
    "    num_inputs = x_train.shape[1]\n",
    "    num_classes = len(set(y_train))\n",
    "    param = initialize(num_inputs,num_classes)\n",
    "\n",
    "    # train the model\n",
    "    train_loss_list, train_acc_list, test_loss_list, test_acc_list = train(param,hyperpara,x_train,y_train,x_test,y_test, cfg_idx)\n",
    "\n",
    "    # plot the loss and accuracy\n",
    "    plot(train_loss_list, train_acc_list, test_loss_list, test_acc_list, cfg_idx)"
   ]
  },
  {
   "cell_type": "markdown",
   "metadata": {},
   "source": [
    "## 2.5. (To finish) Implementation of mini-batch SGD"
   ]
  },
  {
   "cell_type": "code",
   "execution_count": 22,
   "metadata": {},
   "outputs": [],
   "source": [
    "def mini_batch_gradient(param, x_batch, y_batch, reg_lambda):\n",
    "    \"\"\"implement the function to compute the mini batch gradient\n",
    "    input: param -- parameters dictionary (w, b)\n",
    "           x_batch -- a batch of x (size, 784)\n",
    "           y_batch -- a batch of y (size,)\n",
    "           reg_lambdba -- regularization parameter\n",
    "    output: \n",
    "           dw -- derivative for weight w\n",
    "           db -- derivative for bias b\n",
    "           batch_loss -- average loss on the mini-batch samples\n",
    "    \"\"\"\n",
    "    \n",
    "    # Your code goes here\n",
    "    # weight gradient list\n",
    "    w_grad_list = []\n",
    "    # bias gradient list\n",
    "    b_grad_list = []\n",
    "    # intialize batch loss\n",
    "    batch_loss = 0\n",
    "    batch_size = x_batch.shape[0] # 784\n",
    "    for i in range(batch_size):\n",
    "        x = x_batch[i].reshape((784, -1)) # 784 lists with 1 element\n",
    "        y = y_batch[i] # 1 list target\n",
    "        y_true  = numpy.zeros((10, 1)) # array([[0.],[0.],[0.],[0.],[0.],[0.],[0.], [0.], [0.], [0.]])\n",
    "        y_true[y][0] = 1 # change the value appear in y in y_true to 1 (each sets 1 '1')\n",
    "        y_pred = softmax(numpy.matmul(param['w'], x)+param['b'])\n",
    "#         print(\"y_pred: \", y_pred)\n",
    "        loss = neg_log_loss(y_pred, y)\n",
    "#         print(\"loss: \", loss)\n",
    "        batch_loss += loss\n",
    "#         print(\"batch_loss: \", batch_loss)\n",
    "        w_grad = (y_true  - y_pred)\n",
    "        b_grad = -(y_true - y_pred)\n",
    "        w_grad = - numpy.matmul(w_grad, x.reshape((1,784)))\n",
    "        w_grad_list.append(w_grad)\n",
    "        b_grad_list.append(b_grad)\n",
    "\n",
    "    dw = reg_lambda/2*sum(w_grad_list)/batch_size\n",
    "    db = sum(b_grad_list)/batch_size\n",
    "    return dw, db, batch_loss"
   ]
  },
  {
   "cell_type": "markdown",
   "metadata": {},
   "source": [
    "## 2.6. (Read and run) Train your model using the provided configuration (in *configs/config_sample.json*) untill convergence "
   ]
  },
  {
   "cell_type": "code",
   "execution_count": 23,
   "metadata": {},
   "outputs": [
    {
     "name": "stdout",
     "output_type": "stream",
     "text": [
      "Epoch [1/10], Batch [100/600], Loss 229.6793\n",
      "Epoch [1/10], Batch [200/600], Loss 230.4236\n",
      "Epoch [1/10], Batch [300/600], Loss 230.5765\n",
      "Epoch [1/10], Batch [400/600], Loss 228.3359\n",
      "Epoch [1/10], Batch [500/600], Loss 229.6402\n",
      "Epoch [1/10], Batch [600/600], Loss 230.6491\n",
      "Epoch 1/10, Train Loss 2.3026, Train Acc 0.0987, Test Loss 2.3026, Test Acc 0.0980\n",
      "Epoch [2/10], Batch [100/600], Loss 229.4569\n",
      "Epoch [2/10], Batch [200/600], Loss 229.8903\n",
      "Epoch [2/10], Batch [300/600], Loss 229.5062\n",
      "Epoch [2/10], Batch [400/600], Loss 230.4477\n",
      "Epoch [2/10], Batch [500/600], Loss 230.5150\n",
      "Epoch [2/10], Batch [600/600], Loss 230.3073\n",
      "Epoch 2/10, Train Loss 2.3026, Train Acc 0.0987, Test Loss 2.3026, Test Acc 0.0980\n",
      "Epoch [3/10], Batch [100/600], Loss 230.6085\n",
      "Epoch [3/10], Batch [200/600], Loss 230.9417\n",
      "Epoch [3/10], Batch [300/600], Loss 229.7757\n",
      "Epoch [3/10], Batch [400/600], Loss 230.4154\n",
      "Epoch [3/10], Batch [500/600], Loss 229.7606\n",
      "Epoch [3/10], Batch [600/600], Loss 229.5230\n",
      "Epoch 3/10, Train Loss 2.3026, Train Acc 0.0987, Test Loss 2.3026, Test Acc 0.0980\n",
      "Epoch [4/10], Batch [100/600], Loss 230.1829\n",
      "Epoch [4/10], Batch [200/600], Loss 230.3859\n",
      "Epoch [4/10], Batch [300/600], Loss 230.5232\n",
      "Epoch [4/10], Batch [400/600], Loss 230.0250\n",
      "Epoch [4/10], Batch [500/600], Loss 229.1770\n",
      "Epoch [4/10], Batch [600/600], Loss 230.4592\n",
      "Epoch 4/10, Train Loss 2.3026, Train Acc 0.0987, Test Loss 2.3026, Test Acc 0.0980\n",
      "Epoch [5/10], Batch [100/600], Loss 229.9830\n",
      "Epoch [5/10], Batch [200/600], Loss 230.2462\n",
      "Epoch [5/10], Batch [300/600], Loss 230.0398\n",
      "Epoch [5/10], Batch [400/600], Loss 229.3069\n",
      "Epoch [5/10], Batch [500/600], Loss 230.2855\n",
      "Epoch [5/10], Batch [600/600], Loss 230.2975\n",
      "Epoch 5/10, Train Loss 2.3026, Train Acc 0.0987, Test Loss 2.3026, Test Acc 0.0980\n",
      "Epoch [6/10], Batch [100/600], Loss 229.6478\n",
      "Epoch [6/10], Batch [200/600], Loss 229.8503\n",
      "Epoch [6/10], Batch [300/600], Loss 229.4317\n",
      "Epoch [6/10], Batch [400/600], Loss 230.3310\n",
      "Epoch [6/10], Batch [500/600], Loss 229.8178\n",
      "Epoch [6/10], Batch [600/600], Loss 230.0739\n",
      "Epoch 6/10, Train Loss 2.3026, Train Acc 0.0987, Test Loss 2.3026, Test Acc 0.0980\n",
      "Epoch [7/10], Batch [100/600], Loss 230.0623\n",
      "Epoch [7/10], Batch [200/600], Loss 229.5961\n",
      "Epoch [7/10], Batch [300/600], Loss 230.4887\n",
      "Epoch [7/10], Batch [400/600], Loss 230.7973\n",
      "Epoch [7/10], Batch [500/600], Loss 230.0995\n",
      "Epoch [7/10], Batch [600/600], Loss 230.2738\n",
      "Epoch 7/10, Train Loss 2.3026, Train Acc 0.0987, Test Loss 2.3026, Test Acc 0.0980\n",
      "Epoch [8/10], Batch [100/600], Loss 231.1037\n",
      "Epoch [8/10], Batch [200/600], Loss 229.5075\n",
      "Epoch [8/10], Batch [300/600], Loss 230.4960\n",
      "Epoch [8/10], Batch [400/600], Loss 230.4513\n",
      "Epoch [8/10], Batch [500/600], Loss 230.7509\n",
      "Epoch [8/10], Batch [600/600], Loss 231.0986\n",
      "Epoch 8/10, Train Loss 2.3026, Train Acc 0.0987, Test Loss 2.3026, Test Acc 0.0980\n",
      "Epoch [9/10], Batch [100/600], Loss 229.5084\n",
      "Epoch [9/10], Batch [200/600], Loss 230.2219\n",
      "Epoch [9/10], Batch [300/600], Loss 229.3077\n",
      "Epoch [9/10], Batch [400/600], Loss 230.3512\n",
      "Epoch [9/10], Batch [500/600], Loss 229.7280\n",
      "Epoch [9/10], Batch [600/600], Loss 229.5274\n",
      "Epoch 9/10, Train Loss 2.3026, Train Acc 0.0987, Test Loss 2.3026, Test Acc 0.0980\n",
      "Epoch [10/10], Batch [100/600], Loss 231.3016\n",
      "Epoch [10/10], Batch [200/600], Loss 230.1187\n",
      "Epoch [10/10], Batch [300/600], Loss 231.6432\n",
      "Epoch [10/10], Batch [400/600], Loss 229.8982\n",
      "Epoch [10/10], Batch [500/600], Loss 230.1360\n",
      "Epoch [10/10], Batch [600/600], Loss 230.4347\n",
      "Epoch 10/10, Train Loss 2.3026, Train Acc 0.0987, Test Loss 2.3026, Test Acc 0.0980\n"
     ]
    },
    {
     "data": {
      "image/png": "[encoded data removed]",
      "text/plain": [
       "<Figure size 432x288 with 1 Axes>"
      ]
     },
     "metadata": {
      "needs_background": "light"
     },
     "output_type": "display_data"
    },
    {
     "data": {
      "image/png": "[encoded data removed]",
      "text/plain": [
       "<Figure size 432x288 with 1 Axes>"
      ]
     },
     "metadata": {
      "needs_background": "light"
     },
     "output_type": "display_data"
    }
   ],
   "source": [
    "if __name__ == \"__main__\":\n",
    "\n",
    "    cfg_idx = 'sample'\n",
    "    \n",
    "    import logging\n",
    "    logging.basicConfig(filename=\"./logs/{}.log\".format(cfg_idx), filemode=\"w\", format=\"%(message)s\", level=logging.DEBUG)\n",
    "    \n",
    "    main(cfg_idx)"
   ]
  },
  {
   "cell_type": "markdown",
   "metadata": {},
   "source": [
    "## 2.7. (To finish) Does $\\lambda$ impact the accuracy on training and testing data?"
   ]
  },
  {
   "cell_type": "markdown",
   "metadata": {},
   "source": [
    "Please use different values for $\\lambda \\in \\{ 0, 0.0001, 0.001, 0.01, 0.1, 1 \\}$ in the above linear classifier.\n",
    "For the six values of $\\lambda$:"
   ]
  },
  {
   "cell_type": "markdown",
   "metadata": {},
   "source": [
    "(1) Plot loss function values on training and testing data.\n",
    "\n",
    "(2) Plot accuracy on training data and testing data.\n",
    "\n",
    "(3) Use these plots to conclude whether regularization may help generalization performance, and explain why you can draw this conclusion."
   ]
  },
  {
   "cell_type": "code",
   "execution_count": null,
   "metadata": {},
   "outputs": [],
   "source": [
    "# (3)   Regularization is to restrict the norm of the parameter to make it not too large, so the over-fitting situation can be reduced to a certain extent.\n",
    "#   In a sense, a smaller weight w reduces the complexity of the network and fits the data just right."
   ]
  },
  {
   "cell_type": "code",
   "execution_count": 24,
   "metadata": {},
   "outputs": [
    {
     "name": "stdout",
     "output_type": "stream",
     "text": [
      "Lambda = 0: \n"
     ]
    },
    {
     "data": {
      "image/png": "[encoded data removed]",
      "text/plain": [
       "<Figure size 432x288 with 1 Axes>"
      ]
     },
     "metadata": {
      "needs_background": "light"
     },
     "output_type": "display_data"
    },
    {
     "data": {
      "image/png": "[encoded data removed]",
      "text/plain": [
       "<Figure size 432x288 with 1 Axes>"
      ]
     },
     "metadata": {
      "needs_background": "light"
     },
     "output_type": "display_data"
    },
    {
     "name": "stdout",
     "output_type": "stream",
     "text": [
      "Lambda = 0.0001: \n"
     ]
    },
    {
     "data": {
      "image/png": "[encoded data removed]",
      "text/plain": [
       "<Figure size 432x288 with 1 Axes>"
      ]
     },
     "metadata": {
      "needs_background": "light"
     },
     "output_type": "display_data"
    },
    {
     "data": {
      "image/png": "[encoded data removed]",
      "text/plain": [
       "<Figure size 432x288 with 1 Axes>"
      ]
     },
     "metadata": {
      "needs_background": "light"
     },
     "output_type": "display_data"
    },
    {
     "name": "stdout",
     "output_type": "stream",
     "text": [
      "Lambda = 0.001: \n"
     ]
    },
    {
     "data": {
      "image/png": "[encoded data removed]",
      "text/plain": [
       "<Figure size 432x288 with 1 Axes>"
      ]
     },
     "metadata": {
      "needs_background": "light"
     },
     "output_type": "display_data"
    },
    {
     "data": {
      "image/png": "[encoded data removed]",
      "text/plain": [
       "<Figure size 432x288 with 1 Axes>"
      ]
     },
     "metadata": {
      "needs_background": "light"
     },
     "output_type": "display_data"
    },
    {
     "name": "stdout",
     "output_type": "stream",
     "text": [
      "Lambda = 0.01: \n"
     ]
    },
    {
     "data": {
      "image/png": "[encoded data removed]",
      "text/plain": [
       "<Figure size 432x288 with 1 Axes>"
      ]
     },
     "metadata": {
      "needs_background": "light"
     },
     "output_type": "display_data"
    },
    {
     "data": {
      "image/png": "[encoded data removed]",
      "text/plain": [
       "<Figure size 432x288 with 1 Axes>"
      ]
     },
     "metadata": {
      "needs_background": "light"
     },
     "output_type": "display_data"
    },
    {
     "name": "stdout",
     "output_type": "stream",
     "text": [
      "Lambda = 0.1: \n"
     ]
    },
    {
     "data": {
      "image/png": "[encoded data removed]",
      "text/plain": [
       "<Figure size 432x288 with 1 Axes>"
      ]
     },
     "metadata": {
      "needs_background": "light"
     },
     "output_type": "display_data"
    },
    {
     "data": {
      "image/png": "[encoded data removed]",
      "text/plain": [
       "<Figure size 432x288 with 1 Axes>"
      ]
     },
     "metadata": {
      "needs_background": "light"
     },
     "output_type": "display_data"
    },
    {
     "name": "stdout",
     "output_type": "stream",
     "text": [
      "Lambda = 1: \n"
     ]
    },
    {
     "data": {
      "image/png": "[encoded data removed]",
      "text/plain": [
       "<Figure size 432x288 with 1 Axes>"
      ]
     },
     "metadata": {
      "needs_background": "light"
     },
     "output_type": "display_data"
    },
    {
     "data": {
      "image/png": "[encoded data removed]",
      "text/plain": [
       "<Figure size 432x288 with 1 Axes>"
      ]
     },
     "metadata": {
      "needs_background": "light"
     },
     "output_type": "display_data"
    }
   ],
   "source": [
    "# Your code goes here\n",
    "def train(param, hyp, x_train, y_train, x_test, y_test,cfg_idx, reg_lambda):\n",
    "    \"\"\" implement the train function\n",
    "    input: param -- parameters dictionary (w, b)\n",
    "           hyp -- hyperparameters dictionary\n",
    "           x_train -- (60000, 784)\n",
    "           y_train -- (60000,)\n",
    "           x_test -- x_test (10000, 784)\n",
    "           y_test -- y_test (10000,)\n",
    "    output: train_loss_list, train_acc_list, test_loss_list, test_acc_list\n",
    "           Four lists contain the epoch-wise loss function on training data, accuracy on training data, loss function on testing data, accuracy on testing data, respectively\n",
    "    \"\"\"\n",
    "    num_epoches = hyp['num_epoches']\n",
    "    batch_size = hyp['batch_size']\n",
    "    learning_rate = hyp['learning_rate']\n",
    "    mu = hyp['mu']\n",
    "#     reg_lambda = hyp['lambda']\n",
    "    train_loss_list, train_acc_list, test_loss_list, test_acc_list = [],[],[],[]\n",
    "    if bool(hyp['momentum']) == True:\n",
    "        w_velocity = numpy.zeros(param['w'].shape)\n",
    "        b_velocity = numpy.zeros(param['b'].shape) \n",
    "\n",
    "    for epoch in range(num_epoches):\n",
    "        \n",
    "        # select the random sequence of training set\n",
    "        rand_indices = numpy.random.choice(x_train.shape[0],x_train.shape[0],replace=False)\n",
    "        num_batch = int(x_train.shape[0]/batch_size)\n",
    "        \n",
    "        if bool(hyp['learning_decay']) == True:\n",
    "            try:\n",
    "                if test_acc_list[-1] - test_acc_list[-2] < 0.001:\n",
    "                    learning_rate *= hyp['decay_factor']\n",
    "            except:\n",
    "                pass\n",
    "            \n",
    "            message = 'learning rate: %.8f' % learning_rate\n",
    "#             print(message)\n",
    "            logging.info(message)\n",
    "\n",
    "        # for each batch of train data\n",
    "        for batch in range(num_batch):\n",
    "            index = rand_indices[batch_size*batch:batch_size*(batch+1)]\n",
    "            x_batch = x_train[index]\n",
    "            y_batch = y_train[index]\n",
    "\n",
    "            # calculate the stochastic gradient w.r.t w and b\n",
    "            dw, db, batch_loss = mini_batch_gradient(param, x_batch, y_batch, reg_lambda)\n",
    "\n",
    "            param['w'] -= learning_rate * dw\n",
    "            param['b'] -= learning_rate * db\n",
    "            \n",
    "            if (batch+1) % 100 == 0:\n",
    "                message = 'Epoch [%d/%d], Batch [%d/%d], Loss %.4f' % (epoch+1, num_epoches, batch+1, num_batch, batch_loss)\n",
    "#                 print(message)\n",
    "\n",
    "        train_loss, train_acc = eval(param,hyp,x_train,y_train)\n",
    "        test_loss, test_acc = eval(param,hyp,x_test,y_test)\n",
    "        train_loss_list.append(train_loss)\n",
    "        train_acc_list.append(train_acc)\n",
    "        test_loss_list.append(test_loss)\n",
    "        test_acc_list.append(test_acc)\n",
    "\n",
    "        message = 'Epoch %d/%d, Train Loss %.4f, Train Acc %.4f, Test Loss %.4f, Test Acc %.4f' % (epoch+1, num_epoches, train_loss, train_acc, test_loss, test_acc)\n",
    "#         print(message)\n",
    "        logging.info(message)\n",
    "    return train_loss_list, train_acc_list, test_loss_list, test_acc_list\n",
    "\n",
    "def main(cfg_idx, reg_lambda): \n",
    "#     cfg_idx = args.config\n",
    "    cfg_name = 'config_{}.json'.format(cfg_idx)\n",
    "    hyperpara = loadConfig(cfg_name)\n",
    "\n",
    "    # setting the random seed\n",
    "    numpy.random.seed(1024)\n",
    "\n",
    "    # initialize the parameters\n",
    "    num_inputs = x_train.shape[1]\n",
    "    num_classes = len(set(y_train))\n",
    "    param = initialize(num_inputs,num_classes)\n",
    "\n",
    "    # train the model\n",
    "    train_loss_list, train_acc_list, test_loss_list, test_acc_list = train(param,hyperpara,x_train,y_train,x_test,y_test, cfg_idx, reg_lambda)\n",
    "\n",
    "    # plot the loss and accuracy\n",
    "    plot(train_loss_list, train_acc_list, test_loss_list, test_acc_list, cfg_idx)\n",
    "    \n",
    "if __name__ == \"__main__\":\n",
    "\n",
    "    cfg_idx = 'sample'\n",
    "    \n",
    "    import logging\n",
    "    logging.basicConfig(filename=\"./logs/{}.log\".format(cfg_idx), filemode=\"w\", format=\"%(message)s\", level=logging.DEBUG)\n",
    "    \n",
    "    print(\"Lambda = 0: \")\n",
    "    main(cfg_idx, 0)\n",
    "    print(\"Lambda = 0.0001: \")\n",
    "    main(cfg_idx, 0.0001)\n",
    "    print(\"Lambda = 0.001: \")\n",
    "    main(cfg_idx, 0.001)\n",
    "    print(\"Lambda = 0.01: \")\n",
    "    main(cfg_idx, 0.01)\n",
    "    print(\"Lambda = 0.1: \")\n",
    "    main(cfg_idx, 0.1)\n",
    "    print(\"Lambda = 1: \")\n",
    "    main(cfg_idx, 1)"
   ]
  },
  {
   "cell_type": "markdown",
   "metadata": {},
   "source": [
    "## 2.8. (Read and run) Train feedforward networks with one hidden layer (one activation layer)"
   ]
  },
  {
   "cell_type": "code",
   "execution_count": 26,
   "metadata": {},
   "outputs": [
    {
     "name": "stdout",
     "output_type": "stream",
     "text": [
      "Epoch [1/5], Step [100/600], Loss: 0.4242\n",
      "Epoch [1/5], Step [200/600], Loss: 0.3711\n",
      "Epoch [1/5], Step [300/600], Loss: 0.2968\n",
      "Epoch [1/5], Step [400/600], Loss: 0.2566\n",
      "Epoch [1/5], Step [500/600], Loss: 0.1173\n",
      "Epoch [1/5], Step [600/600], Loss: 0.1262\n",
      "Accuracy of the network on the 10000 test images: 95.95 %\n",
      "Epoch [2/5], Step [100/600], Loss: 0.1211\n",
      "Epoch [2/5], Step [200/600], Loss: 0.1435\n",
      "Epoch [2/5], Step [300/600], Loss: 0.0904\n",
      "Epoch [2/5], Step [400/600], Loss: 0.0642\n",
      "Epoch [2/5], Step [500/600], Loss: 0.0684\n",
      "Epoch [2/5], Step [600/600], Loss: 0.1258\n",
      "Accuracy of the network on the 10000 test images: 97.07 %\n",
      "Epoch [3/5], Step [100/600], Loss: 0.0864\n",
      "Epoch [3/5], Step [200/600], Loss: 0.0563\n",
      "Epoch [3/5], Step [300/600], Loss: 0.0313\n",
      "Epoch [3/5], Step [400/600], Loss: 0.0856\n",
      "Epoch [3/5], Step [500/600], Loss: 0.1189\n",
      "Epoch [3/5], Step [600/600], Loss: 0.0903\n",
      "Accuracy of the network on the 10000 test images: 97.32 %\n",
      "Epoch [4/5], Step [100/600], Loss: 0.0593\n",
      "Epoch [4/5], Step [200/600], Loss: 0.0233\n",
      "Epoch [4/5], Step [300/600], Loss: 0.0501\n",
      "Epoch [4/5], Step [400/600], Loss: 0.0574\n",
      "Epoch [4/5], Step [500/600], Loss: 0.0343\n",
      "Epoch [4/5], Step [600/600], Loss: 0.0211\n",
      "Accuracy of the network on the 10000 test images: 97.86 %\n",
      "Epoch [5/5], Step [100/600], Loss: 0.0143\n",
      "Epoch [5/5], Step [200/600], Loss: 0.0258\n",
      "Epoch [5/5], Step [300/600], Loss: 0.0465\n",
      "Epoch [5/5], Step [400/600], Loss: 0.0428\n",
      "Epoch [5/5], Step [500/600], Loss: 0.0509\n",
      "Epoch [5/5], Step [600/600], Loss: 0.0547\n",
      "Accuracy of the network on the 10000 test images: 97.81 %\n"
     ]
    }
   ],
   "source": [
    "import torch\n",
    "import torch.nn as nn\n",
    "import torchvision\n",
    "import torchvision.transforms as transforms\n",
    "\n",
    "\n",
    "# Device configuration\n",
    "device = torch.device('cuda' if torch.cuda.is_available() else 'cpu')\n",
    "\n",
    "# Hyper-parameters \n",
    "input_size = 784\n",
    "hidden_size = 500\n",
    "num_classes = 10\n",
    "num_epochs = 5\n",
    "batch_size = 100\n",
    "learning_rate = 0.001\n",
    "\n",
    "# MNIST dataset \n",
    "train_dataset = torchvision.datasets.MNIST(root='data', \n",
    "                                           train=True, \n",
    "                                           transform=transforms.ToTensor(),  \n",
    "                                           download=True)\n",
    "\n",
    "test_dataset = torchvision.datasets.MNIST(root='data', \n",
    "                                          train=False, \n",
    "                                          transform=transforms.ToTensor())\n",
    "\n",
    "# Data loader\n",
    "train_loader = torch.utils.data.DataLoader(dataset=train_dataset, \n",
    "                                           batch_size=batch_size, \n",
    "                                           shuffle=True)\n",
    "\n",
    "test_loader = torch.utils.data.DataLoader(dataset=test_dataset, \n",
    "                                          batch_size=batch_size, \n",
    "                                          shuffle=False)\n",
    "\n",
    "# Fully connected neural network with one hidden layer\n",
    "class NeuralNet(nn.Module):\n",
    "    def __init__(self, input_size, hidden_size, num_classes):\n",
    "        super(NeuralNet, self).__init__()\n",
    "        self.fc1 = nn.Linear(input_size, hidden_size) \n",
    "        self.relu = nn.ReLU()\n",
    "        self.fc2 = nn.Linear(hidden_size, num_classes)  \n",
    "    \n",
    "    def forward(self, x):\n",
    "        out = self.fc1(x)\n",
    "        out = self.relu(out)\n",
    "        out = self.fc2(out)\n",
    "        return out\n",
    "\n",
    "model = NeuralNet(input_size, hidden_size, num_classes).to(device)\n",
    "\n",
    "# Loss and optimizer\n",
    "criterion = nn.CrossEntropyLoss()\n",
    "optimizer = torch.optim.Adam(model.parameters(), lr=learning_rate, weight_decay=0.00001)  \n",
    "\n",
    "# Train the model\n",
    "total_step = len(train_loader)\n",
    "for epoch in range(num_epochs):\n",
    "    for i, (images, labels) in enumerate(train_loader):  \n",
    "        # Move tensors to the configured device\n",
    "        images = images.reshape(-1, 28*28).to(device)\n",
    "        labels = labels.to(device)\n",
    "        \n",
    "        # Forward pass\n",
    "        outputs = model(images)\n",
    "        loss = criterion(outputs, labels)\n",
    "        \n",
    "        # Backward and optimize\n",
    "        optimizer.zero_grad()\n",
    "        loss.backward()\n",
    "        optimizer.step()\n",
    "        \n",
    "        if (i+1) % 100 == 0:\n",
    "            print ('Epoch [{}/{}], Step [{}/{}], Loss: {:.4f}' \n",
    "                   .format(epoch+1, num_epochs, i+1, total_step, loss.item()))\n",
    "\n",
    "    # Test the model\n",
    "    # In test phase, we don't need to compute gradients (for memory efficiency)\n",
    "    with torch.no_grad():\n",
    "        correct = 0\n",
    "        total = 0\n",
    "        for images, labels in test_loader:\n",
    "            images = images.reshape(-1, 28*28).to(device)\n",
    "            labels = labels.to(device)\n",
    "            outputs = model(images)\n",
    "            _, predicted = torch.max(outputs.data, 1)\n",
    "            total += labels.size(0)\n",
    "            correct += (predicted == labels).sum().item()\n",
    "\n",
    "        print('Accuracy of the network on the 10000 test images: {} %'.format(100 * correct / total))\n",
    "\n",
    "# Save the model checkpoint\n",
    "torch.save(model.state_dict(), 'model.ckpt')"
   ]
  },
  {
   "cell_type": "markdown",
   "metadata": {},
   "source": [
    "## 2.9. (To finish) Implement and train a feedforward network with two hidden layers (two activation layers)"
   ]
  },
  {
   "cell_type": "markdown",
   "metadata": {},
   "source": [
    "After training: plot training and testing accuracy (against #epoches) and answer the question: is there performance difference between one-layer and two-layer network?\n",
    "\n",
    "Hint: modify class NeuralNet"
   ]
  },
  {
   "cell_type": "code",
   "execution_count": 27,
   "metadata": {},
   "outputs": [],
   "source": [
    "#   From the results of these two layers, there is little difference in performance. But by looking up some information, I learned that\n",
    "# using two hidden layers, compared with one hidden layer, can improve generalization ability and reduce overfitting. \n",
    "#   Normally, by using more layers, you can achieve similar performance with fewer parameters."
   ]
  },
  {
   "cell_type": "code",
   "execution_count": 38,
   "metadata": {},
   "outputs": [],
   "source": [
    "# Your code goes here\n",
    "# modify class NeuralNet\n",
    "class NeuralNet2(nn.Module):\n",
    "    def __init__(self, input_size, hidden_size, num_classes):\n",
    "        super(NeuralNet2, self).__init__()\n",
    "        self.fc1 = nn.Linear(input_size, hidden_size) \n",
    "        self.fc2 = nn.Linear(hidden_size, hidden_size)\n",
    "        self.fc3 = nn.Linear(hidden_size, num_classes)\n",
    "        self.relu = nn.ReLU()  \n",
    "    \n",
    "    def forward(self, x):\n",
    "        out = self.fc1(x)\n",
    "        out = self.relu(out)\n",
    "        out = self.fc2(out)\n",
    "        out = self.relu(out)\n",
    "        out = self.fc3(out)\n",
    "        return out\n"
   ]
  },
  {
   "cell_type": "code",
   "execution_count": 29,
   "metadata": {},
   "outputs": [
    {
     "name": "stdout",
     "output_type": "stream",
     "text": [
      "Epoch [1/5], Step [100/600], Loss: 0.2480\n",
      "Epoch [1/5], Step [200/600], Loss: 0.2626\n",
      "Epoch [1/5], Step [300/600], Loss: 0.1008\n",
      "Epoch [1/5], Step [400/600], Loss: 0.2066\n",
      "Epoch [1/5], Step [500/600], Loss: 0.1437\n",
      "Epoch [1/5], Step [600/600], Loss: 0.1353\n",
      "Accuracy of the network on the 10000 test images: 96.18 %\n",
      "Epoch [2/5], Step [100/600], Loss: 0.0715\n",
      "Epoch [2/5], Step [200/600], Loss: 0.0494\n",
      "Epoch [2/5], Step [300/600], Loss: 0.0553\n",
      "Epoch [2/5], Step [400/600], Loss: 0.0256\n",
      "Epoch [2/5], Step [500/600], Loss: 0.1178\n",
      "Epoch [2/5], Step [600/600], Loss: 0.0245\n",
      "Accuracy of the network on the 10000 test images: 97.25 %\n",
      "Epoch [3/5], Step [100/600], Loss: 0.0788\n",
      "Epoch [3/5], Step [200/600], Loss: 0.0772\n",
      "Epoch [3/5], Step [300/600], Loss: 0.0487\n",
      "Epoch [3/5], Step [400/600], Loss: 0.1005\n",
      "Epoch [3/5], Step [500/600], Loss: 0.0257\n",
      "Epoch [3/5], Step [600/600], Loss: 0.0519\n",
      "Accuracy of the network on the 10000 test images: 97.54 %\n",
      "Epoch [4/5], Step [100/600], Loss: 0.0175\n",
      "Epoch [4/5], Step [200/600], Loss: 0.0795\n",
      "Epoch [4/5], Step [300/600], Loss: 0.0133\n",
      "Epoch [4/5], Step [400/600], Loss: 0.0736\n",
      "Epoch [4/5], Step [500/600], Loss: 0.0232\n",
      "Epoch [4/5], Step [600/600], Loss: 0.0190\n",
      "Accuracy of the network on the 10000 test images: 97.85 %\n",
      "Epoch [5/5], Step [100/600], Loss: 0.0197\n",
      "Epoch [5/5], Step [200/600], Loss: 0.0393\n",
      "Epoch [5/5], Step [300/600], Loss: 0.0321\n",
      "Epoch [5/5], Step [400/600], Loss: 0.0507\n",
      "Epoch [5/5], Step [500/600], Loss: 0.0135\n",
      "Epoch [5/5], Step [600/600], Loss: 0.0375\n",
      "Accuracy of the network on the 10000 test images: 97.87 %\n"
     ]
    }
   ],
   "source": [
    "# *1* the training part of code can keep unchanged\n",
    "\n",
    "model = NeuralNet2(input_size, hidden_size, num_classes).to(device)\n",
    "\n",
    "# Loss and optimizer\n",
    "criterion = nn.CrossEntropyLoss()\n",
    "optimizer = torch.optim.Adam(model.parameters(), lr=learning_rate, weight_decay=0.00001)\n",
    "\n",
    "# Train the model\n",
    "total_step = len(train_loader)\n",
    "for epoch in range(num_epochs):\n",
    "    for i, (images, labels) in enumerate(train_loader):  \n",
    "        # Move tensors to the configured device\n",
    "        images = images.reshape(-1, 28*28).to(device)\n",
    "        labels = labels.to(device)\n",
    "        \n",
    "        # Forward pass\n",
    "        outputs = model(images)\n",
    "        loss = criterion(outputs, labels)\n",
    "        \n",
    "        # Backward and optimize\n",
    "        optimizer.zero_grad()\n",
    "        loss.backward()\n",
    "        optimizer.step()\n",
    "        \n",
    "        if (i+1) % 100 == 0:\n",
    "            print ('Epoch [{}/{}], Step [{}/{}], Loss: {:.4f}' \n",
    "                   .format(epoch+1, num_epochs, i+1, total_step, loss.item()))\n",
    "\n",
    "    # Test the model\n",
    "    # In test phase, we don't need to compute gradients (for memory efficiency)\n",
    "    with torch.no_grad():\n",
    "        correct = 0\n",
    "        total = 0\n",
    "        for images, labels in test_loader:\n",
    "            images = images.reshape(-1, 28*28).to(device)\n",
    "            labels = labels.to(device)\n",
    "            outputs = model(images)\n",
    "            _, predicted = torch.max(outputs.data, 1)\n",
    "            total += labels.size(0)\n",
    "            correct += (predicted == labels).sum().item()\n",
    "\n",
    "        print('Accuracy of the network on the 10000 test images: {} %'.format(100 * correct / total))\n",
    "\n",
    "        \n",
    "# *2* Code for plotting results\n",
    "### Your code goes here\n",
    "###     \n",
    "        \n",
    "# Save the model checkpoint\n",
    "torch.save(model.state_dict(), 'model.ckpt')"
   ]
  },
  {
   "cell_type": "markdown",
   "metadata": {},
   "source": [
    "## 2.10. (To finish) Use SGD (instead of Adam) to train your two-hidden-layer network"
   ]
  },
  {
   "cell_type": "markdown",
   "metadata": {},
   "source": [
    "Hint: read this document for torch.optim to understand how to change optimization algorithm"
   ]
  },
  {
   "cell_type": "code",
   "execution_count": 35,
   "metadata": {},
   "outputs": [
    {
     "name": "stdout",
     "output_type": "stream",
     "text": [
      "Epoch [1/5], Step [100/600], Loss: 2.2985\n",
      "Epoch [1/5], Step [200/600], Loss: 2.2951\n",
      "Epoch [1/5], Step [300/600], Loss: 2.2846\n",
      "Epoch [1/5], Step [400/600], Loss: 2.2759\n",
      "Epoch [1/5], Step [500/600], Loss: 2.2743\n",
      "Epoch [1/5], Step [600/600], Loss: 2.2755\n",
      "Accuracy of the network on the 10000 test images: 31.63 %\n",
      "Epoch [2/5], Step [100/600], Loss: 2.2718\n",
      "Epoch [2/5], Step [200/600], Loss: 2.2598\n",
      "Epoch [2/5], Step [300/600], Loss: 2.2494\n",
      "Epoch [2/5], Step [400/600], Loss: 2.2554\n",
      "Epoch [2/5], Step [500/600], Loss: 2.2559\n",
      "Epoch [2/5], Step [600/600], Loss: 2.2333\n",
      "Accuracy of the network on the 10000 test images: 52.96 %\n",
      "Epoch [3/5], Step [100/600], Loss: 2.2341\n",
      "Epoch [3/5], Step [200/600], Loss: 2.2338\n",
      "Epoch [3/5], Step [300/600], Loss: 2.2216\n",
      "Epoch [3/5], Step [400/600], Loss: 2.2231\n",
      "Epoch [3/5], Step [500/600], Loss: 2.1995\n",
      "Epoch [3/5], Step [600/600], Loss: 2.1924\n",
      "Accuracy of the network on the 10000 test images: 63.36 %\n",
      "Epoch [4/5], Step [100/600], Loss: 2.1739\n",
      "Epoch [4/5], Step [200/600], Loss: 2.1860\n",
      "Epoch [4/5], Step [300/600], Loss: 2.1649\n",
      "Epoch [4/5], Step [400/600], Loss: 2.1535\n",
      "Epoch [4/5], Step [500/600], Loss: 2.1433\n",
      "Epoch [4/5], Step [600/600], Loss: 2.1257\n",
      "Accuracy of the network on the 10000 test images: 66.38 %\n",
      "Epoch [5/5], Step [100/600], Loss: 2.1197\n",
      "Epoch [5/5], Step [200/600], Loss: 2.0920\n",
      "Epoch [5/5], Step [300/600], Loss: 2.0842\n",
      "Epoch [5/5], Step [400/600], Loss: 2.0644\n",
      "Epoch [5/5], Step [500/600], Loss: 2.0571\n",
      "Epoch [5/5], Step [600/600], Loss: 2.0293\n",
      "Accuracy of the network on the 10000 test images: 67.08 %\n"
     ]
    }
   ],
   "source": [
    "# Your code goes here\n",
    "\n",
    "model = NeuralNet(input_size, hidden_size, num_classes).to(device)\n",
    "\n",
    "# Loss and optimizer\n",
    "criterion = nn.CrossEntropyLoss()\n",
    "optimizer = torch.optim.SGD(model.parameters(), lr=learning_rate, weight_decay=0.00001)\n",
    "\n",
    "# Train the model\n",
    "total_step = len(train_loader)\n",
    "for epoch in range(num_epochs):\n",
    "    for i, (images, labels) in enumerate(train_loader):  \n",
    "        # Move tensors to the configured device\n",
    "        images = images.reshape(-1, 28*28).to(device)\n",
    "        labels = labels.to(device)\n",
    "        \n",
    "        # Forward pass\n",
    "        outputs = model(images)\n",
    "        loss = criterion(outputs, labels)\n",
    "        \n",
    "        # Backward and optimize\n",
    "        optimizer.zero_grad()\n",
    "        loss.backward()\n",
    "        optimizer.step()\n",
    "        \n",
    "        if (i+1) % 100 == 0:\n",
    "            print ('Epoch [{}/{}], Step [{}/{}], Loss: {:.4f}' \n",
    "                   .format(epoch+1, num_epochs, i+1, total_step, loss.item()))\n",
    "\n",
    "    # Test the model\n",
    "    # In test phase, we don't need to compute gradients (for memory efficiency)\n",
    "    with torch.no_grad():\n",
    "        correct = 0\n",
    "        total = 0\n",
    "        for images, labels in test_loader:\n",
    "            images = images.reshape(-1, 28*28).to(device)\n",
    "            labels = labels.to(device)\n",
    "            outputs = model(images)\n",
    "            _, predicted = torch.max(outputs.data, 1)\n",
    "            total += labels.size(0)\n",
    "            correct += (predicted == labels).sum().item()\n",
    "\n",
    "        print('Accuracy of the network on the 10000 test images: {} %'.format(100 * correct / total))\n",
    "\n",
    "        \n",
    "# *2* Code for plotting results\n",
    "### Your code goes here\n",
    "###     \n",
    "        \n",
    "# Save the model checkpoint\n",
    "torch.save(model.state_dict(), 'model.ckpt')"
   ]
  },
  {
   "cell_type": "markdown",
   "metadata": {},
   "source": [
    "## 2.11. (To finish) Use SGD to train your two-hidden-layer network with different learning rate values in the range of $\\{ 0, 0.0001, 0.001, 0.01, 0.1, 1 \\}$, and show which learning rate achieves the best testing accuracy."
   ]
  },
  {
   "cell_type": "code",
   "execution_count": 30,
   "metadata": {},
   "outputs": [
    {
     "name": "stdout",
     "output_type": "stream",
     "text": [
      "Accuracy of the network on the 10000 test images: 9.17 %\n",
      "Accuracy of the network on the 10000 test images: 21.08 %\n",
      "Accuracy of the network on the 10000 test images: 62.5 %\n",
      "Accuracy of the network on the 10000 test images: 90.75 %\n",
      "Accuracy of the network on the 10000 test images: 96.92 %\n",
      "Accuracy of the network on the 10000 test images: 97.47 %\n"
     ]
    }
   ],
   "source": [
    "# Your code goes here\n",
    "def train_SGD(lr):\n",
    "    model = NeuralNet(input_size, hidden_size, num_classes).to(device)\n",
    "\n",
    "    # Loss and optimizer\n",
    "    criterion = nn.CrossEntropyLoss()\n",
    "    optimizer = torch.optim.SGD(model.parameters(), lr, , weight_decay=0.00001)\n",
    "\n",
    "    # Train the model\n",
    "    total_step = len(train_loader)\n",
    "    for epoch in range(num_epochs):\n",
    "        for i, (images, labels) in enumerate(train_loader):  \n",
    "            # Move tensors to the configured device\n",
    "            images = images.reshape(-1, 28*28).to(device)\n",
    "            labels = labels.to(device)\n",
    "\n",
    "            # Forward pass\n",
    "            outputs = model(images)\n",
    "            loss = criterion(outputs, labels)\n",
    "\n",
    "            # Backward and optimize\n",
    "            optimizer.zero_grad()\n",
    "            loss.backward()\n",
    "            optimizer.step()\n",
    "\n",
    "#             if (i+1) % 100 == 0:\n",
    "#                 print ('Epoch [{}/{}], Step [{}/{}], Loss: {:.4f}' \n",
    "#                        .format(epoch+1, num_epochs, i+1, total_step, loss.item()))\n",
    "\n",
    "        # Test the model\n",
    "        # In test phase, we don't need to compute gradients (for memory efficiency)\n",
    "    with torch.no_grad():\n",
    "        correct = 0\n",
    "        total = 0\n",
    "        for images, labels in test_loader:\n",
    "            images = images.reshape(-1, 28*28).to(device)\n",
    "            labels = labels.to(device)\n",
    "            outputs = model(images)\n",
    "            _, predicted = torch.max(outputs.data, 1)\n",
    "            total += labels.size(0)\n",
    "            correct += (predicted == labels).sum().item()\n",
    "\n",
    "        print('Accuracy of the network on the 10000 test images: {} %'.format(100 * correct / total))\n",
    "\n",
    "\n",
    "    # *2* Code for plotting results\n",
    "    ### Your code goes here\n",
    "    ###     \n",
    "\n",
    "    # Save the model checkpoint\n",
    "    torch.save(model.state_dict(), 'model.ckpt')\n",
    "\n",
    "train_SGD(0)\n",
    "train_SGD(0.0001)\n",
    "train_SGD(0.001)\n",
    "train_SGD(0.01)\n",
    "train_SGD(0.1)\n",
    "train_SGD(1)"
   ]
  },
  {
   "cell_type": "markdown",
   "metadata": {},
   "source": [
    "## 2.12. (To finish) Use Adam to train your two-hidden-layer network with different learning rate values in the range of $\\{ 0, 0.0001, 0.001, 0.01, 0.1, 1 \\}$, and show which learning rate achieves the best testing accuracy."
   ]
  },
  {
   "cell_type": "code",
   "execution_count": 36,
   "metadata": {},
   "outputs": [
    {
     "name": "stdout",
     "output_type": "stream",
     "text": [
      "Accuracy of the network on the 10000 test images: 8.67 %\n",
      "Accuracy of the network on the 10000 test images: 96.21 %\n",
      "Accuracy of the network on the 10000 test images: 98.07 %\n",
      "Accuracy of the network on the 10000 test images: 96.58 %\n",
      "Accuracy of the network on the 10000 test images: 19.82 %\n",
      "Accuracy of the network on the 10000 test images: 9.8 %\n"
     ]
    }
   ],
   "source": [
    "# Your code goes here\n",
    "def train_Adam(lr):\n",
    "    model = NeuralNet(input_size, hidden_size, num_classes).to(device)\n",
    "\n",
    "    # Loss and optimizer\n",
    "    criterion = nn.CrossEntropyLoss()\n",
    "    optimizer = torch.optim.Adam(model.parameters(), lr, weight_decay=0.00001)\n",
    "\n",
    "    # Train the model\n",
    "    total_step = len(train_loader)\n",
    "    for epoch in range(num_epochs):\n",
    "        for i, (images, labels) in enumerate(train_loader):  \n",
    "            # Move tensors to the configured device\n",
    "            images = images.reshape(-1, 28*28).to(device)\n",
    "            labels = labels.to(device)\n",
    "\n",
    "            # Forward pass\n",
    "            outputs = model(images)\n",
    "            loss = criterion(outputs, labels)\n",
    "\n",
    "            # Backward and optimize\n",
    "            optimizer.zero_grad()\n",
    "            loss.backward()\n",
    "            optimizer.step()\n",
    "\n",
    "#             if (i+1) % 100 == 0:\n",
    "#                 print ('Epoch [{}/{}], Step [{}/{}], Loss: {:.4f}' \n",
    "#                        .format(epoch+1, num_epochs, i+1, total_step, loss.item()))\n",
    "\n",
    "        # Test the model\n",
    "        # In test phase, we don't need to compute gradients (for memory efficiency)\n",
    "    with torch.no_grad():\n",
    "        correct = 0\n",
    "        total = 0\n",
    "        for images, labels in test_loader:\n",
    "            images = images.reshape(-1, 28*28).to(device)\n",
    "            labels = labels.to(device)\n",
    "            outputs = model(images)\n",
    "            _, predicted = torch.max(outputs.data, 1)\n",
    "            total += labels.size(0)\n",
    "            correct += (predicted == labels).sum().item()\n",
    "\n",
    "        print('Accuracy of the network on the 10000 test images: {} %'.format(100 * correct / total))\n",
    "\n",
    "\n",
    "    # *2* Code for plotting results\n",
    "    ### Your code goes here\n",
    "    ###     \n",
    "\n",
    "    # Save the model checkpoint\n",
    "    torch.save(model.state_dict(), 'model.ckpt')\n",
    "\n",
    "train_Adam(0)\n",
    "train_Adam(0.0001)\n",
    "train_Adam(0.001)\n",
    "train_Adam(0.01)\n",
    "train_Adam(0.1)\n",
    "train_Adam(1)\n"
   ]
  },
  {
   "cell_type": "markdown",
   "metadata": {},
   "source": [
    "## 2.13. (To finish) Change the dimension of the hidden variable (*hidden_size*) from $500$ to $100, 1000, 2000$, train the corresponding networks, and show the difference of them in testing accuracy."
   ]
  },
  {
   "cell_type": "markdown",
   "metadata": {},
   "source": [
    "Question: how the dimension of hidden variable impacts the performance?"
   ]
  },
  {
   "cell_type": "code",
   "execution_count": null,
   "metadata": {},
   "outputs": [],
   "source": [
    "#   From the conclusion, the larger the dimension of the hidden variable, the higher the accuracy.\n",
    "#   Contrast one-hidden layer and two-hidden layer. The difference between the two is not very big.\n",
    "#   According to the knowledge I have consulted, increasing the number of hidden layers can reduce network errors\n",
    "# and improve accuracy, but it also complicates the network, thereby increasing the training time of the network\n",
    "# and the tendency to \"overfit\". The number of hidden layer nodes has a great impact on the performance of the established\n",
    "# neural network model, and it is the direct cause of \"overfitting\" during training\n",
    "#   And I still can't judge whether it is over-fitting, but the conclusion shows that increasing the number of hidden layers\n",
    "# and the number of nodes can improve the accuracy."
   ]
  },
  {
   "cell_type": "code",
   "execution_count": 39,
   "metadata": {},
   "outputs": [
    {
     "name": "stdout",
     "output_type": "stream",
     "text": [
      "One-hidden-layer: \n",
      "Accuracy of the network on the 10000 test images: 97.09 %\n",
      "Accuracy of the network on the 10000 test images: 97.76 %\n",
      "Accuracy of the network on the 10000 test images: 97.97 %\n",
      "Two-hidden-layer: \n",
      "Accuracy of the network on the 10000 test images: 96.99 %\n",
      "Accuracy of the network on the 10000 test images: 97.75 %\n",
      "Accuracy of the network on the 10000 test images: 97.72 %\n"
     ]
    }
   ],
   "source": [
    "# Your code goes here\n",
    "def different_hidden_size1(hz):\n",
    "    model = NeuralNet(input_size, hz, num_classes).to(device)\n",
    "\n",
    "    # Loss and optimizer\n",
    "    criterion = nn.CrossEntropyLoss()\n",
    "    optimizer = torch.optim.Adam(model.parameters(), lr=learning_rate, weight_decay=0.00001)  \n",
    "\n",
    "    # Train the model\n",
    "    total_step = len(train_loader)\n",
    "    for epoch in range(num_epochs):\n",
    "        for i, (images, labels) in enumerate(train_loader):  \n",
    "            # Move tensors to the configured device\n",
    "            images = images.reshape(-1, 28*28).to(device)\n",
    "            labels = labels.to(device)\n",
    "\n",
    "            # Forward pass\n",
    "            outputs = model(images)\n",
    "            loss = criterion(outputs, labels)\n",
    "\n",
    "            # Backward and optimize\n",
    "            optimizer.zero_grad()\n",
    "            loss.backward()\n",
    "            optimizer.step()\n",
    "\n",
    "#             if (i+1) % 100 == 0:\n",
    "#                 print ('Epoch [{}/{}], Step [{}/{}], Loss: {:.4f}' \n",
    "#                        .format(epoch+1, num_epochs, i+1, total_step, loss.item()))\n",
    "\n",
    "    # Test the model\n",
    "    # In test phase, we don't need to compute gradients (for memory efficiency)\n",
    "    with torch.no_grad():\n",
    "        correct = 0\n",
    "        total = 0\n",
    "        for images, labels in test_loader:\n",
    "            images = images.reshape(-1, 28*28).to(device)\n",
    "            labels = labels.to(device)\n",
    "            outputs = model(images)\n",
    "            _, predicted = torch.max(outputs.data, 1)\n",
    "            total += labels.size(0)\n",
    "            correct += (predicted == labels).sum().item()\n",
    "\n",
    "        print('Accuracy of the network on the 10000 test images: {} %'.format(100 * correct / total))\n",
    "\n",
    "    # Save the model checkpoint\n",
    "    torch.save(model.state_dict(), 'model.ckpt')\n",
    "    \n",
    "def different_hidden_size2(hz):\n",
    "    model = NeuralNet2(input_size, hz, num_classes).to(device)\n",
    "\n",
    "    # Loss and optimizer\n",
    "    criterion = nn.CrossEntropyLoss()\n",
    "    optimizer = torch.optim.Adam(model.parameters(), lr=learning_rate, weight_decay=0.00001)  \n",
    "\n",
    "    # Train the model\n",
    "    total_step = len(train_loader)\n",
    "    for epoch in range(num_epochs):\n",
    "        for i, (images, labels) in enumerate(train_loader):  \n",
    "            # Move tensors to the configured device\n",
    "            images = images.reshape(-1, 28*28).to(device)\n",
    "            labels = labels.to(device)\n",
    "\n",
    "            # Forward pass\n",
    "            outputs = model(images)\n",
    "            loss = criterion(outputs, labels)\n",
    "\n",
    "            # Backward and optimize\n",
    "            optimizer.zero_grad()\n",
    "            loss.backward()\n",
    "            optimizer.step()\n",
    "\n",
    "#             if (i+1) % 100 == 0:\n",
    "#                 print ('Epoch [{}/{}], Step [{}/{}], Loss: {:.4f}' \n",
    "#                        .format(epoch+1, num_epochs, i+1, total_step, loss.item()))\n",
    "\n",
    "    # Test the model\n",
    "    # In test phase, we don't need to compute gradients (for memory efficiency)\n",
    "    with torch.no_grad():\n",
    "        correct = 0\n",
    "        total = 0\n",
    "        for images, labels in test_loader:\n",
    "            images = images.reshape(-1, 28*28).to(device)\n",
    "            labels = labels.to(device)\n",
    "            outputs = model(images)\n",
    "            _, predicted = torch.max(outputs.data, 1)\n",
    "            total += labels.size(0)\n",
    "            correct += (predicted == labels).sum().item()\n",
    "\n",
    "        print('Accuracy of the network on the 10000 test images: {} %'.format(100 * correct / total))\n",
    "\n",
    "    # Save the model checkpoint\n",
    "    torch.save(model.state_dict(), 'model.ckpt')\n",
    "\n",
    "print(\"One-hidden-layer: \")\n",
    "different_hidden_size1(100)\n",
    "different_hidden_size1(1000)\n",
    "different_hidden_size1(2000)\n",
    "\n",
    "print(\"Two-hidden-layer: \")\n",
    "different_hidden_size2(100)\n",
    "different_hidden_size2(1000)\n",
    "different_hidden_size2(2000)"
   ]
  },
  {
   "cell_type": "markdown",
   "metadata": {},
   "source": [
    "## 2.13. (To finish) Is the best learning rate for SGD the same with the best learning rate for Adam?"
   ]
  },
  {
   "cell_type": "markdown",
   "metadata": {},
   "source": []
  },
  {
   "cell_type": "code",
   "execution_count": null,
   "metadata": {},
   "outputs": [],
   "source": [
    "# From 2.12 we can conclude that the best learning rate of Adam is 0.001, \n",
    "# and in 2.11 we can conclude that the best learning rate of SGD is 1. \n",
    "# So the best learning rates of the two are not the same"
   ]
  }
 ],
 "metadata": {
  "kernelspec": {
   "display_name": "Python 3",
   "language": "python",
   "name": "python3"
  },
  "language_info": {
   "codemirror_mode": {
    "name": "ipython",
    "version": 3
   },
   "file_extension": ".py",
   "mimetype": "text/x-python",
   "name": "python",
   "nbconvert_exporter": "python",
   "pygments_lexer": "ipython3",
   "version": "3.8.5"
  }
 },
 "nbformat": 4,
 "nbformat_minor": 4
}
