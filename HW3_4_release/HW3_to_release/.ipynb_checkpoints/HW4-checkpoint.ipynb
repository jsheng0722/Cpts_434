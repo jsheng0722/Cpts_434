{
 "cells": [
  {
   "cell_type": "markdown",
   "metadata": {
    "id": "huVm52PzQUl9"
   },
   "source": [
    "# Homework 4: GAN and NAS\n",
    "\n",
    "### Name: [INPUT-YOUR NAME]\n",
    "\n",
    "## In this assignment, you will:\n",
    "\n",
    "## (1) run and understand the provided pytorch code for GAN;\n",
    "## (2) read a NAS paper and answer the questions.\n",
    "\n",
    "\n",
    "## Submission:\n",
    "\n",
    "* Convert the ipynb files to html files (**save the execution outputs and make sure the html file is generated properly**)\n",
    "    \n",
    "* Compress and submit the ipynb and html files to Blackboard. Remember to name your html file with your name and ID.\n",
    "(When submitting: you will have one ipynb file and one html file for GAN section, and one ipynb file, i.e., this file, and one html file for the rest sections)\n",
    "\n",
    "* **Deadline: May 5**, 11:59:59 PM, Pacific time.\n",
    "\n",
    "* **Late policy**: your total points will be **$100 - \\min( 10n, 80 )$** if you submit assignment $n$ days after the deadline.\n",
    "(If you have any difficulty in time schedule, please let me know.)\n",
    "\n",
    "* If you are more comfortable to use other libraries such as Keras and TensorFlow, you can change the code accordingly.\n",
    "\n",
    "* You may use [Google Colab](https://colab.research.google.com/) to get free access to GPUs\n",
    "(how to: Runtime --> Change runtime type --> Hardware accelerator --> GPU)\n",
    "\n",
    "## Reference\n",
    "* GAN section follows [Dive into Deep Learning](https://d2l.ai/index.html), section [17.2](https://d2l.ai/chapter_generative-adversarial-networks/dcgan.html).\n"
   ]
  },
  {
   "cell_type": "markdown",
   "metadata": {
    "id": "huVm52PzQUl9"
   },
   "source": [
    "# 1. GAN\n",
    "\n",
    "1) Please use the provided code in [Dive into Deep Learning](https://d2l.ai/index.html), section [17.2](https://d2l.ai/chapter_generative-adversarial-networks/dcgan.html) deep convolutional generative adversarial networks .\n",
    "\n",
    "2) Choose a library (MXNET or PYTORCH) on the page\n",
    "\n",
    "3) Click \"COLAB\\[MXNET\\]\" or \"COLAB\\[PYTORCH\\]\" (see [this section](https://d2l.ai/chapter_installation/index.html) for the installation of the used libraries MXNET or PYTORCH if you need to install them). Or access these jupyter notebook directly at [MXNET](https://colab.research.google.com/github/d2l-ai/d2l-en-colab/blob/master/chapter_generative-adversarial-networks/dcgan.ipynb) or [PYTORCH](https://colab.research.google.com/github/d2l-ai/d2l-pytorch-colab/blob/master/chapter_generative-adversarial-networks/dcgan.ipynb)\n",
    "\n",
    "4) (30 points) Run all code for training a GAN on the pokemon dataset with Colab and save the  execution outputs\n",
    "\n",
    "5) (30 points) Complete exercises 1 in [Section 17.2.6](https://d2l.ai/chapter_generative-adversarial-networks/dcgan.html#exercises): what if use standard ReLU activation rather than leaky ReLU.\n",
    "You may add your code at the end of the ipynb file.\n",
    "\n",
    "Hint for pytorch: \n",
    "Generator uses ReLU as the activation function, so you may follow the generator's code to replace leakyReLU with ReLU in discriminator.\n",
    "You may also find the document of [torch.nn.LeakyReLU](https://pytorch.org/docs/stable/generated/torch.nn.LeakyReLU.html#torch.nn.LeakyReLU) and [torch.nn.ReLU](https://pytorch.org/docs/stable/generated/torch.nn.ReLU.html#torch.nn.ReLU) to see the full description of the interfaces.\n",
    "\n",
    "6) Download the GAN ipynb file and convert it to html format."
   ]
  },
  {
   "cell_type": "markdown",
   "metadata": {},
   "source": [
    "# 2. NAS"
   ]
  },
  {
   "cell_type": "markdown",
   "metadata": {},
   "source": [
    "Read reference paper \\[1\\] (at [this link](https://arxiv.org/pdf/1707.04873.pdf)) on NAS. and Answer the following two questions (use plain lanugage to describe your answer and no need to include too many techniques)\n",
    "\n",
    "Hint: you may not read the entire paper. Instead, read the first paragraph of subsection \"Net2Deeper Actor\" on Page 3 (You may search the key word \"Net2Deeper Actor\" on the pdf file to find the subsection on page 3). To get better understanding towards Net2Deeper Actor, you may also read the subsection \"Net2Wider Actor\" on Page 3.\n",
    "\n",
    "Q1 (20 points): How to initialize the kernel of a new convolutional layer in the Net2Deeper actor?\n",
    "\n",
    "**Answer:**"
   ]
  },
  {
   "cell_type": "markdown",
   "metadata": {},
   "source": [
    "Q2 (20 points): How could we widen this new convolutional layer?\n",
    "\n",
    "**Answer:**"
   ]
  },
  {
   "cell_type": "markdown",
   "metadata": {},
   "source": [
    "Reference:\n",
    "\n",
    "\\[1\\] Cai, Han, Tianyao Chen, Weinan Zhang, Yong Yu, and Jun Wang. \"Efficient architecture search by network transformation.\" In Proceedings of the AAAI Conference on Artificial Intelligence, vol. 32, no. 1. 2018."
   ]
  }
 ],
 "metadata": {
  "accelerator": "GPU",
  "colab": {
   "name": "dcgan.ipynb",
   "provenance": []
  },
  "kernelspec": {
   "display_name": "Python 3",
   "language": "python",
   "name": "python3"
  },
  "language_info": {
   "codemirror_mode": {
    "name": "ipython",
    "version": 3
   },
   "file_extension": ".py",
   "mimetype": "text/x-python",
   "name": "python",
   "nbconvert_exporter": "python",
   "pygments_lexer": "ipython3",
   "version": "3.9.2"
  }
 },
 "nbformat": 4,
 "nbformat_minor": 4
}
